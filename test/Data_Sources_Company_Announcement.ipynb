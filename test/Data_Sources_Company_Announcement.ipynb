{
 "cells": [
  {
   "cell_type": "code",
   "execution_count": null,
   "metadata": {},
   "outputs": [],
   "source": [
    "from finnlp.data_sources.company_announcement import Sina_Annoumcement_Downloader"
   ]
  },
  {
   "cell_type": "code",
   "execution_count": 2,
   "metadata": {},
   "outputs": [],
   "source": [
    "downloader = Sina_Annoumcement_Downloader()"
   ]
  },
  {
   "cell_type": "code",
   "execution_count": 3,
   "metadata": {},
   "outputs": [],
   "source": [
    "stock = \"600519\""
   ]
  },
  {
   "cell_type": "code",
   "execution_count": 4,
   "metadata": {},
   "outputs": [
    {
     "name": "stdout",
     "output_type": "stream",
     "text": [
      "Getting page: 0 1 2 3 4 5 6 7 8 9 "
     ]
    },
    {
     "data": {
      "application/vnd.jupyter.widget-view+json": {
       "model_id": "757c8146355c415d8ac2bb38b8317e6a",
       "version_major": 2,
       "version_minor": 0
      },
      "text/plain": [
       "Getting annoumcement content:   0%|          | 0/300 [00:00<?, ?it/s]"
      ]
     },
     "metadata": {},
     "output_type": "display_data"
    }
   ],
   "source": [
    "df = downloader.download(stock,max_page=10)"
   ]
  },
  {
   "cell_type": "code",
   "execution_count": 5,
   "metadata": {},
   "outputs": [
    {
     "data": {
      "text/plain": [
       "(300, 4)"
      ]
     },
     "execution_count": 5,
     "metadata": {},
     "output_type": "execute_result"
    }
   ],
   "source": [
    "df.shape"
   ]
  },
  {
   "cell_type": "code",
   "execution_count": 6,
   "metadata": {},
   "outputs": [
    {
     "data": {
      "text/html": [
       "<div>\n",
       "<style scoped>\n",
       "    .dataframe tbody tr th:only-of-type {\n",
       "        vertical-align: middle;\n",
       "    }\n",
       "\n",
       "    .dataframe tbody tr th {\n",
       "        vertical-align: top;\n",
       "    }\n",
       "\n",
       "    .dataframe thead th {\n",
       "        text-align: right;\n",
       "    }\n",
       "</style>\n",
       "<table border=\"1\" class=\"dataframe\">\n",
       "  <thead>\n",
       "    <tr style=\"text-align: right;\">\n",
       "      <th></th>\n",
       "      <th>date</th>\n",
       "      <th>headline</th>\n",
       "      <th>url</th>\n",
       "      <th>content</th>\n",
       "    </tr>\n",
       "  </thead>\n",
       "  <tbody>\n",
       "    <tr>\n",
       "      <th>0</th>\n",
       "      <td>2023-02-11</td>\n",
       "      <td>贵州茅台：关于控股股东增持公司股票计划实施进展的公告</td>\n",
       "      <td>https://vip.stock.finance.sina.com.cn/corp/vie...</td>\n",
       "      <td>贵州茅台酒股份有限公司关于控股股东增持公司股票计划实施进展的公告本公司董事会及全体董事保证本...</td>\n",
       "    </tr>\n",
       "    <tr>\n",
       "      <th>1</th>\n",
       "      <td>2022-12-30</td>\n",
       "      <td>贵州茅台：2022年度生产经营情况公告</td>\n",
       "      <td>https://vip.stock.finance.sina.com.cn/corp/vie...</td>\n",
       "      <td>贵州茅台酒股份有限公司2022年度生产经营情况公告本公司董事会及全体董事保证本公告内容不存在...</td>\n",
       "    </tr>\n",
       "    <tr>\n",
       "      <th>2</th>\n",
       "      <td>2022-12-29</td>\n",
       "      <td>贵州茅台：关于召开2022年第三季度及近期生产经营情况业绩说明会的公告</td>\n",
       "      <td>https://vip.stock.finance.sina.com.cn/corp/vie...</td>\n",
       "      <td>贵州茅台酒股份有限公司关于召开2022年第三季度及近期生产经营情况业绩说明会的公告本公司董事...</td>\n",
       "    </tr>\n",
       "    <tr>\n",
       "      <th>3</th>\n",
       "      <td>2022-12-21</td>\n",
       "      <td>贵州茅台：2022年度回报股东特别分红实施公告</td>\n",
       "      <td>https://vip.stock.finance.sina.com.cn/corp/vie...</td>\n",
       "      <td>证券代码：600519   证券简称：贵州茅台   公告编号：临2022-033贵州茅台酒股...</td>\n",
       "    </tr>\n",
       "    <tr>\n",
       "      <th>4</th>\n",
       "      <td>2022-12-15</td>\n",
       "      <td>贵州茅台：北京市金杜律师事务所关于贵州茅台酒股份有限公司2022年第一次临时股东大会的法律意见书</td>\n",
       "      <td>https://vip.stock.finance.sina.com.cn/corp/vie...</td>\n",
       "      <td>公告内容详见附件</td>\n",
       "    </tr>\n",
       "  </tbody>\n",
       "</table>\n",
       "</div>"
      ],
      "text/plain": [
       "         date                                          headline  \\\n",
       "0  2023-02-11                        贵州茅台：关于控股股东增持公司股票计划实施进展的公告   \n",
       "1  2022-12-30                               贵州茅台：2022年度生产经营情况公告   \n",
       "2  2022-12-29               贵州茅台：关于召开2022年第三季度及近期生产经营情况业绩说明会的公告   \n",
       "3  2022-12-21                           贵州茅台：2022年度回报股东特别分红实施公告   \n",
       "4  2022-12-15  贵州茅台：北京市金杜律师事务所关于贵州茅台酒股份有限公司2022年第一次临时股东大会的法律意见书   \n",
       "\n",
       "                                                 url  \\\n",
       "0  https://vip.stock.finance.sina.com.cn/corp/vie...   \n",
       "1  https://vip.stock.finance.sina.com.cn/corp/vie...   \n",
       "2  https://vip.stock.finance.sina.com.cn/corp/vie...   \n",
       "3  https://vip.stock.finance.sina.com.cn/corp/vie...   \n",
       "4  https://vip.stock.finance.sina.com.cn/corp/vie...   \n",
       "\n",
       "                                             content  \n",
       "0  贵州茅台酒股份有限公司关于控股股东增持公司股票计划实施进展的公告本公司董事会及全体董事保证本...  \n",
       "1  贵州茅台酒股份有限公司2022年度生产经营情况公告本公司董事会及全体董事保证本公告内容不存在...  \n",
       "2  贵州茅台酒股份有限公司关于召开2022年第三季度及近期生产经营情况业绩说明会的公告本公司董事...  \n",
       "3  证券代码：600519   证券简称：贵州茅台   公告编号：临2022-033贵州茅台酒股...  \n",
       "4                                           公告内容详见附件  "
      ]
     },
     "execution_count": 6,
     "metadata": {},
     "output_type": "execute_result"
    }
   ],
   "source": [
    "df.head(5)"
   ]
  }
 ],
 "metadata": {
  "kernelspec": {
   "display_name": "finrl",
   "language": "python",
   "name": "python3"
  },
  "language_info": {
   "codemirror_mode": {
    "name": "ipython",
    "version": 3
   },
   "file_extension": ".py",
   "mimetype": "text/x-python",
   "name": "python",
   "nbconvert_exporter": "python",
   "pygments_lexer": "ipython3",
   "version": "3.7.12"
  },
  "orig_nbformat": 4,
  "vscode": {
   "interpreter": {
    "hash": "afd6dc03c9be451573fc2885de79a969af6a24a159f11a3ead741ab7a9ff405f"
   }
  }
 },
 "nbformat": 4,
 "nbformat_minor": 2
}
