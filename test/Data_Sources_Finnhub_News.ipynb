{
 "cells": [
  {
   "cell_type": "code",
   "execution_count": 1,
   "metadata": {},
   "outputs": [],
   "source": [
    "import sys\n",
    "sys.path.append(\"..\")"
   ]
  },
  {
   "attachments": {},
   "cell_type": "markdown",
   "metadata": {},
   "source": [
    "#### Imports"
   ]
  },
  {
   "cell_type": "code",
   "execution_count": 2,
   "metadata": {},
   "outputs": [],
   "source": [
    "from finnlp.data_sources.news.finnhub import Finnhub_News"
   ]
  },
  {
   "attachments": {},
   "cell_type": "markdown",
   "metadata": {},
   "source": [
    "#### Config"
   ]
  },
  {
   "cell_type": "code",
   "execution_count": 3,
   "metadata": {},
   "outputs": [],
   "source": [
    "stock = \"AAPL\"\n",
    "start_date = \"2023-02-01\"\n",
    "end_date = \"2023-02-20\"\n",
    "token = \"YOUR_FINNHUB_TOEKN\""
   ]
  },
  {
   "attachments": {},
   "cell_type": "markdown",
   "metadata": {},
   "source": [
    "#### News_downloader"
   ]
  },
  {
   "cell_type": "code",
   "execution_count": 4,
   "metadata": {},
   "outputs": [],
   "source": [
    "downloader = Finnhub_News({\"token\":token})"
   ]
  },
  {
   "cell_type": "code",
   "execution_count": 5,
   "metadata": {},
   "outputs": [],
   "source": [
    "downloader.download_news(start_date,end_date,stock)"
   ]
  },
  {
   "cell_type": "code",
   "execution_count": 6,
   "metadata": {},
   "outputs": [
    {
     "data": {
      "text/plain": [
       "(238, 9)"
      ]
     },
     "execution_count": 6,
     "metadata": {},
     "output_type": "execute_result"
    }
   ],
   "source": [
    "downloader.dataframe.shape"
   ]
  },
  {
   "cell_type": "code",
   "execution_count": 7,
   "metadata": {},
   "outputs": [
    {
     "data": {
      "text/html": [
       "<div>\n",
       "<style scoped>\n",
       "    .dataframe tbody tr th:only-of-type {\n",
       "        vertical-align: middle;\n",
       "    }\n",
       "\n",
       "    .dataframe tbody tr th {\n",
       "        vertical-align: top;\n",
       "    }\n",
       "\n",
       "    .dataframe thead th {\n",
       "        text-align: right;\n",
       "    }\n",
       "</style>\n",
       "<table border=\"1\" class=\"dataframe\">\n",
       "  <thead>\n",
       "    <tr style=\"text-align: right;\">\n",
       "      <th></th>\n",
       "      <th>category</th>\n",
       "      <th>datetime</th>\n",
       "      <th>headline</th>\n",
       "      <th>id</th>\n",
       "      <th>image</th>\n",
       "      <th>related</th>\n",
       "      <th>source</th>\n",
       "      <th>summary</th>\n",
       "      <th>url</th>\n",
       "    </tr>\n",
       "  </thead>\n",
       "  <tbody>\n",
       "    <tr>\n",
       "      <th>0</th>\n",
       "      <td>company</td>\n",
       "      <td>2023-02-19 20:13:30</td>\n",
       "      <td>Apple Watch faces potential import ban over pa...</td>\n",
       "      <td>118689109</td>\n",
       "      <td>https://s.yimg.com/ny/api/res/1.2/IxOSxq4zuN9t...</td>\n",
       "      <td>AAPL</td>\n",
       "      <td>Yahoo</td>\n",
       "      <td>A judge for the U.S. ITC ruled in January that...</td>\n",
       "      <td>https://finnhub.io/api/news?id=c0a35a0b53bcff6...</td>\n",
       "    </tr>\n",
       "    <tr>\n",
       "      <th>1</th>\n",
       "      <td>company</td>\n",
       "      <td>2023-02-19 18:55:41</td>\n",
       "      <td>Shark Tank's Kevin O'Leary: ChatGPT is 'killin...</td>\n",
       "      <td>118682648</td>\n",
       "      <td>https://s.yimg.com/ny/api/res/1.2/f3XQpe3SDL.J...</td>\n",
       "      <td>AAPL</td>\n",
       "      <td>Yahoo</td>\n",
       "      <td>Google should fear Microsoft's AI capabilities...</td>\n",
       "      <td>https://finnhub.io/api/news?id=e6ef6cc6893d7f3...</td>\n",
       "    </tr>\n",
       "    <tr>\n",
       "      <th>2</th>\n",
       "      <td>company</td>\n",
       "      <td>2023-02-19 18:21:26</td>\n",
       "      <td>Meta to launch subscription service for Facebo...</td>\n",
       "      <td>118689115</td>\n",
       "      <td>https://s.yimg.com/cv/apiv2/social/images/yaho...</td>\n",
       "      <td>AAPL</td>\n",
       "      <td>Yahoo</td>\n",
       "      <td>Meta will launch a paid subscription service t...</td>\n",
       "      <td>https://finnhub.io/api/news?id=2be43cff06458fb...</td>\n",
       "    </tr>\n",
       "    <tr>\n",
       "      <th>3</th>\n",
       "      <td>company</td>\n",
       "      <td>2023-02-19 15:13:00</td>\n",
       "      <td>Is The Trade Desk Stock a Buy Now?</td>\n",
       "      <td>118678231</td>\n",
       "      <td>https://s.yimg.com/ny/api/res/1.2/.F7F1zdJIzVW...</td>\n",
       "      <td>AAPL</td>\n",
       "      <td>Yahoo</td>\n",
       "      <td>The Trade Desk's (NASDAQ: TTD) stock surged 33...</td>\n",
       "      <td>https://finnhub.io/api/news?id=eaa1556c1496f26...</td>\n",
       "    </tr>\n",
       "    <tr>\n",
       "      <th>4</th>\n",
       "      <td>company</td>\n",
       "      <td>2023-02-19 14:38:53</td>\n",
       "      <td>10 Best Performing Warren Buffett Stocks in 2023</td>\n",
       "      <td>118678234</td>\n",
       "      <td>https://media.zenfs.com/en/insidermonkey.com/f...</td>\n",
       "      <td>AAPL</td>\n",
       "      <td>Yahoo</td>\n",
       "      <td>In this piece, we will take a look at the ten ...</td>\n",
       "      <td>https://finnhub.io/api/news?id=3e7ef9a06c0f119...</td>\n",
       "    </tr>\n",
       "  </tbody>\n",
       "</table>\n",
       "</div>"
      ],
      "text/plain": [
       "  category            datetime  \\\n",
       "0  company 2023-02-19 20:13:30   \n",
       "1  company 2023-02-19 18:55:41   \n",
       "2  company 2023-02-19 18:21:26   \n",
       "3  company 2023-02-19 15:13:00   \n",
       "4  company 2023-02-19 14:38:53   \n",
       "\n",
       "                                            headline         id  \\\n",
       "0  Apple Watch faces potential import ban over pa...  118689109   \n",
       "1  Shark Tank's Kevin O'Leary: ChatGPT is 'killin...  118682648   \n",
       "2  Meta to launch subscription service for Facebo...  118689115   \n",
       "3                 Is The Trade Desk Stock a Buy Now?  118678231   \n",
       "4   10 Best Performing Warren Buffett Stocks in 2023  118678234   \n",
       "\n",
       "                                               image related source  \\\n",
       "0  https://s.yimg.com/ny/api/res/1.2/IxOSxq4zuN9t...    AAPL  Yahoo   \n",
       "1  https://s.yimg.com/ny/api/res/1.2/f3XQpe3SDL.J...    AAPL  Yahoo   \n",
       "2  https://s.yimg.com/cv/apiv2/social/images/yaho...    AAPL  Yahoo   \n",
       "3  https://s.yimg.com/ny/api/res/1.2/.F7F1zdJIzVW...    AAPL  Yahoo   \n",
       "4  https://media.zenfs.com/en/insidermonkey.com/f...    AAPL  Yahoo   \n",
       "\n",
       "                                             summary  \\\n",
       "0  A judge for the U.S. ITC ruled in January that...   \n",
       "1  Google should fear Microsoft's AI capabilities...   \n",
       "2  Meta will launch a paid subscription service t...   \n",
       "3  The Trade Desk's (NASDAQ: TTD) stock surged 33...   \n",
       "4  In this piece, we will take a look at the ten ...   \n",
       "\n",
       "                                                 url  \n",
       "0  https://finnhub.io/api/news?id=c0a35a0b53bcff6...  \n",
       "1  https://finnhub.io/api/news?id=e6ef6cc6893d7f3...  \n",
       "2  https://finnhub.io/api/news?id=2be43cff06458fb...  \n",
       "3  https://finnhub.io/api/news?id=eaa1556c1496f26...  \n",
       "4  https://finnhub.io/api/news?id=3e7ef9a06c0f119...  "
      ]
     },
     "execution_count": 7,
     "metadata": {},
     "output_type": "execute_result"
    }
   ],
   "source": [
    "downloader.dataframe.head(5)"
   ]
  }
 ],
 "metadata": {
  "kernelspec": {
   "display_name": "finrl",
   "language": "python",
   "name": "python3"
  },
  "language_info": {
   "codemirror_mode": {
    "name": "ipython",
    "version": 3
   },
   "file_extension": ".py",
   "mimetype": "text/x-python",
   "name": "python",
   "nbconvert_exporter": "python",
   "pygments_lexer": "ipython3",
   "version": "3.7.12"
  },
  "orig_nbformat": 4,
  "vscode": {
   "interpreter": {
    "hash": "afd6dc03c9be451573fc2885de79a969af6a24a159f11a3ead741ab7a9ff405f"
   }
  }
 },
 "nbformat": 4,
 "nbformat_minor": 2
}
