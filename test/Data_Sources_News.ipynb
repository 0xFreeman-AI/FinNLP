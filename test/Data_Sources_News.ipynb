{
 "cells": [
  {
   "cell_type": "code",
   "execution_count": 1,
   "metadata": {},
   "outputs": [],
   "source": [
    "import sys\n",
    "sys.path.append(\"../../FinNLP\")"
   ]
  },
  {
   "attachments": {},
   "cell_type": "markdown",
   "metadata": {},
   "source": [
    "### Sina Finance"
   ]
  },
  {
   "cell_type": "code",
   "execution_count": 2,
   "metadata": {},
   "outputs": [],
   "source": [
    "from finnlp.data_sources.news.sina_finance_date_range import Sina_Finance_Date_Range"
   ]
  },
  {
   "cell_type": "code",
   "execution_count": 3,
   "metadata": {},
   "outputs": [],
   "source": [
    "start_date = \"2016-01-01\"\n",
    "end_date = \"2016-01-02\"\n",
    "config = {\n",
    "    \"use_proxy\": \"china_free\",\n",
    "    \"max_retry\": 5,\n",
    "    \"proxy_pages\": 5,\n",
    "}"
   ]
  },
  {
   "cell_type": "code",
   "execution_count": 4,
   "metadata": {},
   "outputs": [
    {
     "name": "stderr",
     "output_type": "stream",
     "text": [
      "Gathering free ips by pages...: 100%|██████████| 10/10 [00:09<00:00,  1.03it/s]\n",
      "Checking ips: 100%|██████████| 150/150 [00:40<00:00,  3.71it/s]\n"
     ]
    },
    {
     "name": "stdout",
     "output_type": "stream",
     "text": [
      "获取到的代理ip数量: 150 。Get proxy ips: 150.\n",
      "能用的代理数量： 150。Usable proxy ips: 150.\n"
     ]
    },
    {
     "name": "stderr",
     "output_type": "stream",
     "text": [
      "Downloading Titles...: 100%|██████████| 2/2 [00:02<00:00,  1.29s/it]\n",
      "Gathering news contents: 100%|██████████| 137/137 [00:32<00:00,  4.26it/s]\n"
     ]
    }
   ],
   "source": [
    "sina_finance_news_downloader = Sina_Finance_Date_Range(config)\n",
    "sina_finance_news_downloader.download_date_range_all(start_date,end_date)\n",
    "sina_finance_news_downloader.gather_content()"
   ]
  },
  {
   "cell_type": "code",
   "execution_count": 5,
   "metadata": {},
   "outputs": [
    {
     "data": {
      "text/html": [
       "<div>\n",
       "<style scoped>\n",
       "    .dataframe tbody tr th:only-of-type {\n",
       "        vertical-align: middle;\n",
       "    }\n",
       "\n",
       "    .dataframe tbody tr th {\n",
       "        vertical-align: top;\n",
       "    }\n",
       "\n",
       "    .dataframe thead th {\n",
       "        text-align: right;\n",
       "    }\n",
       "</style>\n",
       "<table border=\"1\" class=\"dataframe\">\n",
       "  <thead>\n",
       "    <tr style=\"text-align: right;\">\n",
       "      <th></th>\n",
       "      <th>title</th>\n",
       "      <th>content</th>\n",
       "    </tr>\n",
       "  </thead>\n",
       "  <tbody>\n",
       "    <tr>\n",
       "      <th>0</th>\n",
       "      <td>分析师：伊朗重回国际原油市场无法阻止</td>\n",
       "      <td>新浪美股讯 北京时间1月1日晚CNBC称，加拿大皇家银行（RBC）分析师Helima Cro...</td>\n",
       "    </tr>\n",
       "    <tr>\n",
       "      <th>1</th>\n",
       "      <td>FAA：波音767的逃生扶梯存在缺陷</td>\n",
       "      <td>新浪美股讯 北京时间1日晚，美国联邦航空局（FAA）要求航空公司对波音767机型的救生扶梯进...</td>\n",
       "    </tr>\n",
       "    <tr>\n",
       "      <th>2</th>\n",
       "      <td>非制造业新订单指数创新高 需求回升力度明显</td>\n",
       "      <td>中新社北京1月1日电 （记者 刘长忠）记者1日从中国物流与采购联合会获悉，在最新发布的201...</td>\n",
       "    </tr>\n",
       "    <tr>\n",
       "      <th>3</th>\n",
       "      <td>雷曼兄弟针对大和证券提起索赔诉讼</td>\n",
       "      <td>新浪美股讯 北京时间1日下午共同社称，2008年破产的美国金融巨头雷曼兄弟公司的清算法人日前...</td>\n",
       "    </tr>\n",
       "    <tr>\n",
       "      <th>4</th>\n",
       "      <td>国内钢铁PMI有所回升 钢市低迷形势有所改善</td>\n",
       "      <td>新华社上海1月1日专电（记者李荣）据中物联钢铁物流专业委员会1日发布的指数报告，2015年1...</td>\n",
       "    </tr>\n",
       "    <tr>\n",
       "      <th>5</th>\n",
       "      <td>马息岭凸显朝鲜旅游体育战略</td>\n",
       "      <td>新浪美股北京时间1日讯 三位单板滑雪手将成为最早拜访马息岭滑雪场的西方专业运动员，他们本月就...</td>\n",
       "    </tr>\n",
       "    <tr>\n",
       "      <th>6</th>\n",
       "      <td>五洲船舶破产清算 近十年来首现国有船厂倒闭</td>\n",
       "      <td>（原标题：中国首家国有船厂破产倒闭）\\n低迷的中国造船市场，多年来首次出现国有船厂破产清算的...</td>\n",
       "    </tr>\n",
       "    <tr>\n",
       "      <th>7</th>\n",
       "      <td>过半城市房价环比上涨 百城住宅均价加速升温</td>\n",
       "      <td>资料图。中新社记者 武俊杰 摄\\n中新社北京1月1日电 (记者 庞无忌)中国房地产市场在20...</td>\n",
       "    </tr>\n",
       "    <tr>\n",
       "      <th>8</th>\n",
       "      <td>经济学人：巴西病根到底在哪里</td>\n",
       "      <td>新浪美股北京时间1日讯 原本，巴西人是该高高兴兴迎接2016年的。8月间，里约热内卢将举办南...</td>\n",
       "    </tr>\n",
       "    <tr>\n",
       "      <th>9</th>\n",
       "      <td>中国首家国有船厂破产倒闭:五洲船舶目前已停工</td>\n",
       "      <td>低迷的中国造船市场，多年来首次出现国有船厂破产清算的一幕。浙江海运集团旗下的五洲船舶修造公司...</td>\n",
       "    </tr>\n",
       "  </tbody>\n",
       "</table>\n",
       "</div>"
      ],
      "text/plain": [
       "                    title                                            content\n",
       "0      分析师：伊朗重回国际原油市场无法阻止  新浪美股讯 北京时间1月1日晚CNBC称，加拿大皇家银行（RBC）分析师Helima Cro...\n",
       "1      FAA：波音767的逃生扶梯存在缺陷  新浪美股讯 北京时间1日晚，美国联邦航空局（FAA）要求航空公司对波音767机型的救生扶梯进...\n",
       "2   非制造业新订单指数创新高 需求回升力度明显  中新社北京1月1日电 （记者 刘长忠）记者1日从中国物流与采购联合会获悉，在最新发布的201...\n",
       "3        雷曼兄弟针对大和证券提起索赔诉讼  新浪美股讯 北京时间1日下午共同社称，2008年破产的美国金融巨头雷曼兄弟公司的清算法人日前...\n",
       "4  国内钢铁PMI有所回升 钢市低迷形势有所改善  新华社上海1月1日专电（记者李荣）据中物联钢铁物流专业委员会1日发布的指数报告，2015年1...\n",
       "5           马息岭凸显朝鲜旅游体育战略  新浪美股北京时间1日讯 三位单板滑雪手将成为最早拜访马息岭滑雪场的西方专业运动员，他们本月就...\n",
       "6   五洲船舶破产清算 近十年来首现国有船厂倒闭  （原标题：中国首家国有船厂破产倒闭）\\n低迷的中国造船市场，多年来首次出现国有船厂破产清算的...\n",
       "7   过半城市房价环比上涨 百城住宅均价加速升温  资料图。中新社记者 武俊杰 摄\\n中新社北京1月1日电 (记者 庞无忌)中国房地产市场在20...\n",
       "8          经济学人：巴西病根到底在哪里  新浪美股北京时间1日讯 原本，巴西人是该高高兴兴迎接2016年的。8月间，里约热内卢将举办南...\n",
       "9  中国首家国有船厂破产倒闭:五洲船舶目前已停工  低迷的中国造船市场，多年来首次出现国有船厂破产清算的一幕。浙江海运集团旗下的五洲船舶修造公司..."
      ]
     },
     "execution_count": 5,
     "metadata": {},
     "output_type": "execute_result"
    }
   ],
   "source": [
    "selected_columns = [\"title\", \"content\"]\n",
    "sina_finance_news_downloader.dataframe[selected_columns].head(10)"
   ]
  },
  {
   "cell_type": "code",
   "execution_count": null,
   "metadata": {},
   "outputs": [],
   "source": []
  },
  {
   "attachments": {},
   "cell_type": "markdown",
   "metadata": {},
   "source": [
    "### Yahoo Finance"
   ]
  },
  {
   "cell_type": "code",
   "execution_count": 2,
   "metadata": {},
   "outputs": [],
   "source": [
    "from finnlp.data_sources.news.finnhub_date_range import Finnhub_Date_Range"
   ]
  },
  {
   "cell_type": "code",
   "execution_count": 3,
   "metadata": {},
   "outputs": [],
   "source": [
    "start_date = \"2023-01-01\"\n",
    "end_date = \"2023-01-03\"\n",
    "config = {\n",
    "    \"use_proxy\": \"us_free\",\n",
    "    \"max_retry\": 5,\n",
    "    \"proxy_pages\": 5,\n",
    "    \"token\": \"cfpi919r01qq927hi250cfpi919r01qq927hi25g\"\n",
    "}"
   ]
  },
  {
   "cell_type": "code",
   "execution_count": 4,
   "metadata": {},
   "outputs": [
    {
     "name": "stderr",
     "output_type": "stream",
     "text": [
      "Checking ips: 100%|██████████| 75/75 [02:51<00:00,  2.28s/it]\n"
     ]
    },
    {
     "name": "stdout",
     "output_type": "stream",
     "text": [
      "Get proxy ips: 75.\n",
      "Usable proxy ips: 75.\n"
     ]
    },
    {
     "name": "stderr",
     "output_type": "stream",
     "text": [
      "Downloading Titles: 100%|██████████| 1/1 [00:02<00:00,  2.66s/it]\n",
      "Gathering news contents:  48%|████▊     | 49/102 [03:18<02:51,  3.24s/it]c:\\Users\\Olive\\.conda\\envs\\finrl\\lib\\site-packages\\urllib3\\connectionpool.py:1052: InsecureRequestWarning: Unverified HTTPS request is being made to host 'thefly.com'. Adding certificate verification is strongly advised. See: https://urllib3.readthedocs.io/en/1.26.x/advanced-usage.html#ssl-warnings\n",
      "  InsecureRequestWarning,\n",
      "Gathering news contents: 100%|██████████| 102/102 [06:15<00:00,  3.68s/it]\n"
     ]
    }
   ],
   "source": [
    "news_downloader = Finnhub_Date_Range(config)\n",
    "news_downloader.download_date_range_stock(start_date,end_date)\n",
    "news_downloader.gather_content()"
   ]
  },
  {
   "cell_type": "code",
   "execution_count": 6,
   "metadata": {},
   "outputs": [
    {
     "data": {
      "text/html": [
       "<div>\n",
       "<style scoped>\n",
       "    .dataframe tbody tr th:only-of-type {\n",
       "        vertical-align: middle;\n",
       "    }\n",
       "\n",
       "    .dataframe tbody tr th {\n",
       "        vertical-align: top;\n",
       "    }\n",
       "\n",
       "    .dataframe thead th {\n",
       "        text-align: right;\n",
       "    }\n",
       "</style>\n",
       "<table border=\"1\" class=\"dataframe\">\n",
       "  <thead>\n",
       "    <tr style=\"text-align: right;\">\n",
       "      <th></th>\n",
       "      <th>category</th>\n",
       "      <th>datetime</th>\n",
       "      <th>headline</th>\n",
       "      <th>id</th>\n",
       "      <th>image</th>\n",
       "      <th>related</th>\n",
       "      <th>source</th>\n",
       "      <th>summary</th>\n",
       "      <th>url</th>\n",
       "      <th>content</th>\n",
       "    </tr>\n",
       "  </thead>\n",
       "  <tbody>\n",
       "    <tr>\n",
       "      <th>0</th>\n",
       "      <td>company</td>\n",
       "      <td>2023-01-03 23:40:08</td>\n",
       "      <td>My 26-Stock $349k Portfolio Gets A Nice Petrob...</td>\n",
       "      <td>118107004</td>\n",
       "      <td>https://media.gettyimages.com/id/1441204186/ph...</td>\n",
       "      <td>AAPL</td>\n",
       "      <td>SeekingAlpha</td>\n",
       "      <td>My portfolio, built specifically for my retire...</td>\n",
       "      <td>https://finnhub.io/api/news?id=d3c15f6f365663b...</td>\n",
       "      <td>Home\\nInvesting Strategy\\nPortfolio Strategy\\n...</td>\n",
       "    </tr>\n",
       "    <tr>\n",
       "      <th>1</th>\n",
       "      <td>company</td>\n",
       "      <td>2023-01-03 22:09:00</td>\n",
       "      <td>Apple’s Market Cap Slides Below $2 Trillion fo...</td>\n",
       "      <td>118105849</td>\n",
       "      <td></td>\n",
       "      <td>AAPL</td>\n",
       "      <td>Yahoo</td>\n",
       "      <td>The tech giant is one of only five U.S. compan...</td>\n",
       "      <td>https://finnhub.io/api/news?id=42343678a7474e1...</td>\n",
       "      <td>Error</td>\n",
       "    </tr>\n",
       "  </tbody>\n",
       "</table>\n",
       "</div>"
      ],
      "text/plain": [
       "  category            datetime  \\\n",
       "0  company 2023-01-03 23:40:08   \n",
       "1  company 2023-01-03 22:09:00   \n",
       "\n",
       "                                            headline         id  \\\n",
       "0  My 26-Stock $349k Portfolio Gets A Nice Petrob...  118107004   \n",
       "1  Apple’s Market Cap Slides Below $2 Trillion fo...  118105849   \n",
       "\n",
       "                                               image related        source  \\\n",
       "0  https://media.gettyimages.com/id/1441204186/ph...    AAPL  SeekingAlpha   \n",
       "1                                                       AAPL         Yahoo   \n",
       "\n",
       "                                             summary  \\\n",
       "0  My portfolio, built specifically for my retire...   \n",
       "1  The tech giant is one of only five U.S. compan...   \n",
       "\n",
       "                                                 url  \\\n",
       "0  https://finnhub.io/api/news?id=d3c15f6f365663b...   \n",
       "1  https://finnhub.io/api/news?id=42343678a7474e1...   \n",
       "\n",
       "                                             content  \n",
       "0  Home\\nInvesting Strategy\\nPortfolio Strategy\\n...  \n",
       "1                                              Error  "
      ]
     },
     "execution_count": 6,
     "metadata": {},
     "output_type": "execute_result"
    }
   ],
   "source": [
    "df = news_downloader.dataframe\n",
    "df.head(2)"
   ]
  },
  {
   "cell_type": "code",
   "execution_count": 8,
   "metadata": {},
   "outputs": [
    {
     "data": {
      "text/html": [
       "<div>\n",
       "<style scoped>\n",
       "    .dataframe tbody tr th:only-of-type {\n",
       "        vertical-align: middle;\n",
       "    }\n",
       "\n",
       "    .dataframe tbody tr th {\n",
       "        vertical-align: top;\n",
       "    }\n",
       "\n",
       "    .dataframe thead th {\n",
       "        text-align: right;\n",
       "    }\n",
       "</style>\n",
       "<table border=\"1\" class=\"dataframe\">\n",
       "  <thead>\n",
       "    <tr style=\"text-align: right;\">\n",
       "      <th></th>\n",
       "      <th>headline</th>\n",
       "      <th>content</th>\n",
       "    </tr>\n",
       "  </thead>\n",
       "  <tbody>\n",
       "    <tr>\n",
       "      <th>0</th>\n",
       "      <td>My 26-Stock $349k Portfolio Gets A Nice Petrob...</td>\n",
       "      <td>Home\\nInvesting Strategy\\nPortfolio Strategy\\n...</td>\n",
       "    </tr>\n",
       "    <tr>\n",
       "      <th>1</th>\n",
       "      <td>Apple’s Market Cap Slides Below $2 Trillion fo...</td>\n",
       "      <td>Error</td>\n",
       "    </tr>\n",
       "    <tr>\n",
       "      <th>2</th>\n",
       "      <td>US STOCKS-Wall St starts the year with a dip; ...</td>\n",
       "      <td>(For a Reuters live blog on U.S., UK and Europ...</td>\n",
       "    </tr>\n",
       "    <tr>\n",
       "      <th>3</th>\n",
       "      <td>Buy 4 January Dogs Of The Dow, Watch 4 More</td>\n",
       "      <td>Home\\nDividends\\nDividend Quick Picks\\nBuy 4 J...</td>\n",
       "    </tr>\n",
       "    <tr>\n",
       "      <th>4</th>\n",
       "      <td>Apple's stock market value falls below $2 tril...</td>\n",
       "      <td>Jan 3 (Reuters) - Apple Inc's \\n(AAPL.O)\\n sto...</td>\n",
       "    </tr>\n",
       "    <tr>\n",
       "      <th>5</th>\n",
       "      <td>CORRECTED-UPDATE 1-Apple's stock market value ...</td>\n",
       "      <td>Jan 3 (Reuters) - Apple Inc's \\n(AAPL.O)\\n sto...</td>\n",
       "    </tr>\n",
       "    <tr>\n",
       "      <th>6</th>\n",
       "      <td>Apple Stock Falls Amid Report Of Product Order...</td>\n",
       "      <td>Apple stock got off to a slow start in 2023 as...</td>\n",
       "    </tr>\n",
       "    <tr>\n",
       "      <th>7</th>\n",
       "      <td>US STOCKS-Wall St starts the year with a dip; ...</td>\n",
       "      <td>Summary\\nCompanies\\nTesla shares plunge on Q4 ...</td>\n",
       "    </tr>\n",
       "    <tr>\n",
       "      <th>8</th>\n",
       "      <td>More than $1 trillion wiped off value of Apple...</td>\n",
       "      <td>apple store\\nMore than $1 trillion has been wi...</td>\n",
       "    </tr>\n",
       "    <tr>\n",
       "      <th>9</th>\n",
       "      <td>McLean's Iridium inks agreement to put its sat...</td>\n",
       "      <td>The company hasn't named its partner, but it's...</td>\n",
       "    </tr>\n",
       "  </tbody>\n",
       "</table>\n",
       "</div>"
      ],
      "text/plain": [
       "                                            headline  \\\n",
       "0  My 26-Stock $349k Portfolio Gets A Nice Petrob...   \n",
       "1  Apple’s Market Cap Slides Below $2 Trillion fo...   \n",
       "2  US STOCKS-Wall St starts the year with a dip; ...   \n",
       "3        Buy 4 January Dogs Of The Dow, Watch 4 More   \n",
       "4  Apple's stock market value falls below $2 tril...   \n",
       "5  CORRECTED-UPDATE 1-Apple's stock market value ...   \n",
       "6  Apple Stock Falls Amid Report Of Product Order...   \n",
       "7  US STOCKS-Wall St starts the year with a dip; ...   \n",
       "8  More than $1 trillion wiped off value of Apple...   \n",
       "9  McLean's Iridium inks agreement to put its sat...   \n",
       "\n",
       "                                             content  \n",
       "0  Home\\nInvesting Strategy\\nPortfolio Strategy\\n...  \n",
       "1                                              Error  \n",
       "2  (For a Reuters live blog on U.S., UK and Europ...  \n",
       "3  Home\\nDividends\\nDividend Quick Picks\\nBuy 4 J...  \n",
       "4  Jan 3 (Reuters) - Apple Inc's \\n(AAPL.O)\\n sto...  \n",
       "5  Jan 3 (Reuters) - Apple Inc's \\n(AAPL.O)\\n sto...  \n",
       "6  Apple stock got off to a slow start in 2023 as...  \n",
       "7  Summary\\nCompanies\\nTesla shares plunge on Q4 ...  \n",
       "8  apple store\\nMore than $1 trillion has been wi...  \n",
       "9  The company hasn't named its partner, but it's...  "
      ]
     },
     "execution_count": 8,
     "metadata": {},
     "output_type": "execute_result"
    }
   ],
   "source": [
    "selected_columns = [\"headline\", \"content\"]\n",
    "df[selected_columns].head(10)"
   ]
  },
  {
   "cell_type": "code",
   "execution_count": null,
   "metadata": {},
   "outputs": [],
   "source": []
  }
 ],
 "metadata": {
  "kernelspec": {
   "display_name": "finrl",
   "language": "python",
   "name": "python3"
  },
  "language_info": {
   "codemirror_mode": {
    "name": "ipython",
    "version": 3
   },
   "file_extension": ".py",
   "mimetype": "text/x-python",
   "name": "python",
   "nbconvert_exporter": "python",
   "pygments_lexer": "ipython3",
   "version": "3.7.12"
  },
  "orig_nbformat": 4
 },
 "nbformat": 4,
 "nbformat_minor": 2
}
