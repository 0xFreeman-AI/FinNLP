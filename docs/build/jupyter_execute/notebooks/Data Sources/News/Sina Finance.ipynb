{
 "cells": [
  {
   "attachments": {},
   "cell_type": "markdown",
   "metadata": {},
   "source": [
    "# Data Sources Sina Finance"
   ]
  },
  {
   "cell_type": "code",
   "execution_count": 1,
   "metadata": {},
   "outputs": [],
   "source": [
    "import sys\n",
    "sys.path.append(\"../../../\")"
   ]
  },
  {
   "cell_type": "code",
   "execution_count": 2,
   "metadata": {},
   "outputs": [
    {
     "ename": "ModuleNotFoundError",
     "evalue": "No module named 'finnlp'",
     "output_type": "error",
     "traceback": [
      "\u001b[1;31m---------------------------------------------------------------------------\u001b[0m",
      "\u001b[1;31mModuleNotFoundError\u001b[0m                       Traceback (most recent call last)",
      "\u001b[1;32m~\\AppData\\Local\\Temp\\ipykernel_123912\\1469339247.py\u001b[0m in \u001b[0;36m<module>\u001b[1;34m\u001b[0m\n\u001b[1;32m----> 1\u001b[1;33m \u001b[1;32mfrom\u001b[0m \u001b[0mfinnlp\u001b[0m\u001b[1;33m.\u001b[0m\u001b[0mdata_sources\u001b[0m\u001b[1;33m.\u001b[0m\u001b[0mnews\u001b[0m\u001b[1;33m.\u001b[0m\u001b[0msina_finance\u001b[0m \u001b[1;32mimport\u001b[0m \u001b[0mSina_Finance\u001b[0m\u001b[1;33m\u001b[0m\u001b[1;33m\u001b[0m\u001b[0m\n\u001b[0m",
      "\u001b[1;31mModuleNotFoundError\u001b[0m: No module named 'finnlp'"
     ]
    }
   ],
   "source": [
    "from finnlp.data_sources.news.sina_finance import Sina_Finance"
   ]
  },
  {
   "attachments": {},
   "cell_type": "markdown",
   "metadata": {},
   "source": [
    "## Config"
   ]
  },
  {
   "cell_type": "code",
   "execution_count": 3,
   "metadata": {},
   "outputs": [],
   "source": [
    "start_date = \"2016-01-01\"\n",
    "end_date = \"2016-01-05\""
   ]
  },
  {
   "attachments": {},
   "cell_type": "markdown",
   "metadata": {},
   "source": [
    "## News_downloader"
   ]
  },
  {
   "cell_type": "code",
   "execution_count": 4,
   "metadata": {},
   "outputs": [],
   "source": [
    "sina_finance_news_downloader = Sina_Finance()"
   ]
  },
  {
   "cell_type": "code",
   "execution_count": 5,
   "metadata": {},
   "outputs": [
    {
     "data": {
      "application/vnd.jupyter.widget-view+json": {
       "model_id": "b9a268cd724340328a9fcc544477bfdf",
       "version_major": 2,
       "version_minor": 0
      },
      "text/plain": [
       "  0%|          | 0/5 [00:00<?, ?it/s]"
      ]
     },
     "metadata": {},
     "output_type": "display_data"
    }
   ],
   "source": [
    "sina_finance_news_downloader.download_news(start_date,end_date)"
   ]
  },
  {
   "attachments": {},
   "cell_type": "markdown",
   "metadata": {},
   "source": [
    "## Results"
   ]
  },
  {
   "cell_type": "code",
   "execution_count": 6,
   "metadata": {},
   "outputs": [
    {
     "data": {
      "text/plain": [
       "(506, 49)"
      ]
     },
     "execution_count": 6,
     "metadata": {},
     "output_type": "execute_result"
    }
   ],
   "source": [
    "sina_finance_news_downloader.dataframe.shape"
   ]
  },
  {
   "cell_type": "code",
   "execution_count": 7,
   "metadata": {},
   "outputs": [
    {
     "data": {
      "text/html": [
       "<div>\n",
       "<style scoped>\n",
       "    .dataframe tbody tr th:only-of-type {\n",
       "        vertical-align: middle;\n",
       "    }\n",
       "\n",
       "    .dataframe tbody tr th {\n",
       "        vertical-align: top;\n",
       "    }\n",
       "\n",
       "    .dataframe thead th {\n",
       "        text-align: right;\n",
       "    }\n",
       "</style>\n",
       "<table border=\"1\" class=\"dataframe\">\n",
       "  <thead>\n",
       "    <tr style=\"text-align: right;\">\n",
       "      <th></th>\n",
       "      <th>oid</th>\n",
       "      <th>docid</th>\n",
       "      <th>url</th>\n",
       "      <th>wapurl</th>\n",
       "      <th>title</th>\n",
       "      <th>stitle</th>\n",
       "      <th>summary</th>\n",
       "      <th>wapsummary</th>\n",
       "      <th>intro</th>\n",
       "      <th>ctime</th>\n",
       "      <th>...</th>\n",
       "      <th>urls</th>\n",
       "      <th>wapurls</th>\n",
       "      <th>comment_reply</th>\n",
       "      <th>comment_show</th>\n",
       "      <th>comment_total</th>\n",
       "      <th>praise</th>\n",
       "      <th>dispraise</th>\n",
       "      <th>hqChart</th>\n",
       "      <th>icons</th>\n",
       "      <th>is_cre_manual</th>\n",
       "    </tr>\n",
       "  </thead>\n",
       "  <tbody>\n",
       "    <tr>\n",
       "      <th>0</th>\n",
       "      <td>6563909</td>\n",
       "      <td>comos:fxncyar6157750</td>\n",
       "      <td>http://finance.sina.com.cn/world/gjcj/2016-01-...</td>\n",
       "      <td>http://finance.sina.cn/usstock/mggd/2016-01-01...</td>\n",
       "      <td>分析师：伊朗重回国际原油市场无法阻止</td>\n",
       "      <td>伊朗重回原油市场无法阻止</td>\n",
       "      <td></td>\n",
       "      <td>分析师表示，伊朗试射弹道导弹的行为违反联合国规定。</td>\n",
       "      <td>新浪美股讯 北京时间1月1日晚CNBC称，加拿大皇家银行（RBC）分析师Helima Cr...</td>\n",
       "      <td>2016-01-01 22:53:28+08:00</td>\n",
       "      <td>...</td>\n",
       "      <td>[\"http:\\/\\/finance.sina.com.cn\\/world\\/gjcj\\/2...</td>\n",
       "      <td>[\"http:\\/\\/finance.sina.cn\\/usstock\\/mggd\\/201...</td>\n",
       "      <td>0</td>\n",
       "      <td>0</td>\n",
       "      <td>0</td>\n",
       "      <td>2</td>\n",
       "      <td>0</td>\n",
       "      <td>{\"stockCharts\":\"no\",\"stockCode\":\"\",\"stockMarke...</td>\n",
       "      <td></td>\n",
       "      <td>0</td>\n",
       "    </tr>\n",
       "    <tr>\n",
       "      <th>0</th>\n",
       "      <td>6563633</td>\n",
       "      <td>comos:fxneept3520432</td>\n",
       "      <td>http://finance.sina.com.cn/world/gjcj/2016-01-...</td>\n",
       "      <td>http://finance.sina.cn/usstock/mggd/2016-01-01...</td>\n",
       "      <td>FAA：波音767的逃生扶梯存在缺陷</td>\n",
       "      <td>波音767的逃生扶梯存在缺陷</td>\n",
       "      <td></td>\n",
       "      <td>美国联邦航空局指出波音767型飞机的救生扶梯存在隐患。</td>\n",
       "      <td>新浪美股讯 北京时间1日晚，美国联邦航空局（FAA）要求航空公司对波音767机型的救生扶梯进...</td>\n",
       "      <td>2016-01-01 20:22:46+08:00</td>\n",
       "      <td>...</td>\n",
       "      <td>[\"http:\\/\\/finance.sina.com.cn\\/world\\/gjcj\\/2...</td>\n",
       "      <td>[\"http:\\/\\/finance.sina.cn\\/usstock\\/mggd\\/201...</td>\n",
       "      <td>0</td>\n",
       "      <td>0</td>\n",
       "      <td>0</td>\n",
       "      <td>0</td>\n",
       "      <td>0</td>\n",
       "      <td>{\"stockCharts\":\"no\",\"stockCode\":\"\",\"stockMarke...</td>\n",
       "      <td></td>\n",
       "      <td>0</td>\n",
       "    </tr>\n",
       "    <tr>\n",
       "      <th>0</th>\n",
       "      <td>6563397</td>\n",
       "      <td>comos:fxneept3516742</td>\n",
       "      <td>http://finance.sina.com.cn/roll/2016-01-01/doc...</td>\n",
       "      <td>http://finance.sina.cn/2016-01-01/detail-ifxne...</td>\n",
       "      <td>非制造业新订单指数创新高 需求回升力度明显</td>\n",
       "      <td>非制造业新订单指数创新高</td>\n",
       "      <td></td>\n",
       "      <td>专家分析称，中国非制造业活动呈现进一步向好发展态势</td>\n",
       "      <td>中新社北京1月1日电 （记者 刘长忠）记者1日从中国物流与采购联合会获悉，在最新发布的201...</td>\n",
       "      <td>2016-01-01 18:08:15+08:00</td>\n",
       "      <td>...</td>\n",
       "      <td>[\"http:\\/\\/finance.sina.com.cn\\/roll\\/2016-01-...</td>\n",
       "      <td>[\"http:\\/\\/finance.sina.cn\\/2016-01-01\\/detail...</td>\n",
       "      <td>0</td>\n",
       "      <td>0</td>\n",
       "      <td>0</td>\n",
       "      <td>3</td>\n",
       "      <td>1</td>\n",
       "      <td>{\"stockCharts\":\"no\",\"stockCode\":\"\",\"stockMarke...</td>\n",
       "      <td></td>\n",
       "      <td>0</td>\n",
       "    </tr>\n",
       "    <tr>\n",
       "      <th>0</th>\n",
       "      <td>6563384</td>\n",
       "      <td>comos:fxncyar6149400</td>\n",
       "      <td>http://finance.sina.com.cn/world/gjcj/2016-01-...</td>\n",
       "      <td>http://finance.sina.cn/usstock/mggd/2016-01-01...</td>\n",
       "      <td>雷曼兄弟针对大和证券提起索赔诉讼</td>\n",
       "      <td>雷曼针对大和证券提起诉讼</td>\n",
       "      <td></td>\n",
       "      <td>雷曼兄弟于2012年脱离《联邦破产法》第11条的破产保护。</td>\n",
       "      <td>新浪美股讯 北京时间1日下午共同社称，2008年破产的美国金融巨头雷曼兄弟公司的清算法人日前...</td>\n",
       "      <td>2016-01-01 18:03:05+08:00</td>\n",
       "      <td>...</td>\n",
       "      <td>[\"http:\\/\\/finance.sina.com.cn\\/world\\/gjcj\\/2...</td>\n",
       "      <td>[\"http:\\/\\/finance.sina.cn\\/usstock\\/mggd\\/201...</td>\n",
       "      <td>0</td>\n",
       "      <td>0</td>\n",
       "      <td>0</td>\n",
       "      <td>0</td>\n",
       "      <td>0</td>\n",
       "      <td>{\"stockCharts\":\"no\",\"stockCode\":\"\",\"stockMarke...</td>\n",
       "      <td></td>\n",
       "      <td>0</td>\n",
       "    </tr>\n",
       "    <tr>\n",
       "      <th>0</th>\n",
       "      <td>6563298</td>\n",
       "      <td>comos:fxncyar6148405</td>\n",
       "      <td>http://finance.sina.com.cn/roll/2016-01-01/doc...</td>\n",
       "      <td>http://finance.sina.cn/2016-01-01/detail-ifxnc...</td>\n",
       "      <td>国内钢铁PMI有所回升 钢市低迷形势有所改善</td>\n",
       "      <td>国内钢市低迷形势有所改善</td>\n",
       "      <td></td>\n",
       "      <td>报告称当前无论是钢厂还是市场的库存均处于较低的水平</td>\n",
       "      <td>新华社上海1月1日专电（记者李荣）据中物联钢铁物流专业委员会1日发布的指数报告，2015年1...</td>\n",
       "      <td>2016-01-01 17:20:09+08:00</td>\n",
       "      <td>...</td>\n",
       "      <td>[\"http:\\/\\/finance.sina.com.cn\\/roll\\/2016-01-...</td>\n",
       "      <td>[\"http:\\/\\/finance.sina.cn\\/2016-01-01\\/detail...</td>\n",
       "      <td>0</td>\n",
       "      <td>4</td>\n",
       "      <td>4</td>\n",
       "      <td>6</td>\n",
       "      <td>9</td>\n",
       "      <td>{\"stockCharts\":\"no\",\"stockCode\":\"\",\"stockMarke...</td>\n",
       "      <td></td>\n",
       "      <td>0</td>\n",
       "    </tr>\n",
       "  </tbody>\n",
       "</table>\n",
       "<p>5 rows × 49 columns</p>\n",
       "</div>"
      ],
      "text/plain": [
       "       oid                 docid  \\\n",
       "0  6563909  comos:fxncyar6157750   \n",
       "0  6563633  comos:fxneept3520432   \n",
       "0  6563397  comos:fxneept3516742   \n",
       "0  6563384  comos:fxncyar6149400   \n",
       "0  6563298  comos:fxncyar6148405   \n",
       "\n",
       "                                                 url  \\\n",
       "0  http://finance.sina.com.cn/world/gjcj/2016-01-...   \n",
       "0  http://finance.sina.com.cn/world/gjcj/2016-01-...   \n",
       "0  http://finance.sina.com.cn/roll/2016-01-01/doc...   \n",
       "0  http://finance.sina.com.cn/world/gjcj/2016-01-...   \n",
       "0  http://finance.sina.com.cn/roll/2016-01-01/doc...   \n",
       "\n",
       "                                              wapurl                   title  \\\n",
       "0  http://finance.sina.cn/usstock/mggd/2016-01-01...      分析师：伊朗重回国际原油市场无法阻止   \n",
       "0  http://finance.sina.cn/usstock/mggd/2016-01-01...      FAA：波音767的逃生扶梯存在缺陷   \n",
       "0  http://finance.sina.cn/2016-01-01/detail-ifxne...   非制造业新订单指数创新高 需求回升力度明显   \n",
       "0  http://finance.sina.cn/usstock/mggd/2016-01-01...        雷曼兄弟针对大和证券提起索赔诉讼   \n",
       "0  http://finance.sina.cn/2016-01-01/detail-ifxnc...  国内钢铁PMI有所回升 钢市低迷形势有所改善   \n",
       "\n",
       "           stitle summary                     wapsummary  \\\n",
       "0    伊朗重回原油市场无法阻止              分析师表示，伊朗试射弹道导弹的行为违反联合国规定。   \n",
       "0  波音767的逃生扶梯存在缺陷            美国联邦航空局指出波音767型飞机的救生扶梯存在隐患。   \n",
       "0    非制造业新订单指数创新高              专家分析称，中国非制造业活动呈现进一步向好发展态势   \n",
       "0    雷曼针对大和证券提起诉讼          雷曼兄弟于2012年脱离《联邦破产法》第11条的破产保护。   \n",
       "0    国内钢市低迷形势有所改善              报告称当前无论是钢厂还是市场的库存均处于较低的水平   \n",
       "\n",
       "                                               intro  \\\n",
       "0   新浪美股讯 北京时间1月1日晚CNBC称，加拿大皇家银行（RBC）分析师Helima Cr...   \n",
       "0  新浪美股讯 北京时间1日晚，美国联邦航空局（FAA）要求航空公司对波音767机型的救生扶梯进...   \n",
       "0  中新社北京1月1日电 （记者 刘长忠）记者1日从中国物流与采购联合会获悉，在最新发布的201...   \n",
       "0  新浪美股讯 北京时间1日下午共同社称，2008年破产的美国金融巨头雷曼兄弟公司的清算法人日前...   \n",
       "0  新华社上海1月1日专电（记者李荣）据中物联钢铁物流专业委员会1日发布的指数报告，2015年1...   \n",
       "\n",
       "                      ctime  ...  \\\n",
       "0 2016-01-01 22:53:28+08:00  ...   \n",
       "0 2016-01-01 20:22:46+08:00  ...   \n",
       "0 2016-01-01 18:08:15+08:00  ...   \n",
       "0 2016-01-01 18:03:05+08:00  ...   \n",
       "0 2016-01-01 17:20:09+08:00  ...   \n",
       "\n",
       "                                                urls  \\\n",
       "0  [\"http:\\/\\/finance.sina.com.cn\\/world\\/gjcj\\/2...   \n",
       "0  [\"http:\\/\\/finance.sina.com.cn\\/world\\/gjcj\\/2...   \n",
       "0  [\"http:\\/\\/finance.sina.com.cn\\/roll\\/2016-01-...   \n",
       "0  [\"http:\\/\\/finance.sina.com.cn\\/world\\/gjcj\\/2...   \n",
       "0  [\"http:\\/\\/finance.sina.com.cn\\/roll\\/2016-01-...   \n",
       "\n",
       "                                             wapurls comment_reply  \\\n",
       "0  [\"http:\\/\\/finance.sina.cn\\/usstock\\/mggd\\/201...             0   \n",
       "0  [\"http:\\/\\/finance.sina.cn\\/usstock\\/mggd\\/201...             0   \n",
       "0  [\"http:\\/\\/finance.sina.cn\\/2016-01-01\\/detail...             0   \n",
       "0  [\"http:\\/\\/finance.sina.cn\\/usstock\\/mggd\\/201...             0   \n",
       "0  [\"http:\\/\\/finance.sina.cn\\/2016-01-01\\/detail...             0   \n",
       "\n",
       "  comment_show comment_total praise dispraise  \\\n",
       "0            0             0      2         0   \n",
       "0            0             0      0         0   \n",
       "0            0             0      3         1   \n",
       "0            0             0      0         0   \n",
       "0            4             4      6         9   \n",
       "\n",
       "                                             hqChart icons is_cre_manual  \n",
       "0  {\"stockCharts\":\"no\",\"stockCode\":\"\",\"stockMarke...                   0  \n",
       "0  {\"stockCharts\":\"no\",\"stockCode\":\"\",\"stockMarke...                   0  \n",
       "0  {\"stockCharts\":\"no\",\"stockCode\":\"\",\"stockMarke...                   0  \n",
       "0  {\"stockCharts\":\"no\",\"stockCode\":\"\",\"stockMarke...                   0  \n",
       "0  {\"stockCharts\":\"no\",\"stockCode\":\"\",\"stockMarke...                   0  \n",
       "\n",
       "[5 rows x 49 columns]"
      ]
     },
     "execution_count": 7,
     "metadata": {},
     "output_type": "execute_result"
    }
   ],
   "source": [
    "sina_finance_news_downloader.dataframe.head(5)"
   ]
  },
  {
   "cell_type": "code",
   "execution_count": 2,
   "metadata": {},
   "outputs": [
    {
     "data": {
      "text/plain": [
       "'d:\\\\python_project\\\\FinRL-Meta\\\\FinNLP\\\\finnlp'"
      ]
     },
     "execution_count": 2,
     "metadata": {},
     "output_type": "execute_result"
    }
   ],
   "source": [
    "import sys, os\n",
    "os.path.abspath(\"../../../finnlp/\")"
   ]
  }
 ],
 "metadata": {
  "kernelspec": {
   "display_name": "finrl",
   "language": "python",
   "name": "python3"
  },
  "language_info": {
   "codemirror_mode": {
    "name": "ipython",
    "version": 3
   },
   "file_extension": ".py",
   "mimetype": "text/x-python",
   "name": "python",
   "nbconvert_exporter": "python",
   "pygments_lexer": "ipython3",
   "version": "3.7.12"
  },
  "vscode": {
   "interpreter": {
    "hash": "afd6dc03c9be451573fc2885de79a969af6a24a159f11a3ead741ab7a9ff405f"
   }
  }
 },
 "nbformat": 4,
 "nbformat_minor": 2
}